{
 "cells": [
  {
   "cell_type": "code",
   "execution_count": 8,
   "id": "a663efff-02f1-4c45-89e8-5c95d97f2ced",
   "metadata": {},
   "outputs": [
    {
     "name": "stdout",
     "output_type": "stream",
     "text": [
      "<class 'list'>\n"
     ]
    }
   ],
   "source": [
    "numbers = [1, 2, 3, 4]\n",
    "\n",
    "print(type(numbers))"
   ]
  },
  {
   "cell_type": "code",
   "execution_count": 12,
   "id": "07bc372e-0bba-42aa-b92f-1821f664976e",
   "metadata": {},
   "outputs": [
    {
     "name": "stdout",
     "output_type": "stream",
     "text": [
      "28\n",
      "30\n"
     ]
    }
   ],
   "source": [
    "# extract information with age greater than 25 from the following list of dictionaries\n",
    "data = [{\"name\": \"Alice\", \"age\": 28}, {\"name\": \"Bob\", \"age\": 24}, {\"name\": \"Charlie\", \"age\": 30}]\n",
    "\n",
    "for obj in data:\n",
    "  for value in obj.values():\n",
    "    if type(value) == int and value > 25:\n",
    "      print(value)\n"
   ]
  },
  {
   "cell_type": "code",
   "execution_count": 121,
   "id": "4d7663b4-e991-43a8-9f44-a37c1ad87b50",
   "metadata": {},
   "outputs": [
    {
     "name": "stdout",
     "output_type": "stream",
     "text": [
      "[1, 2, 3, 4, 5, 6, 7, 8, 9]\n"
     ]
    }
   ],
   "source": [
    "# Using list comprehension to flatten the matrix into a single list\n",
    "\n",
    "matrix = [\n",
    "  [1, 2, 3], \n",
    "  [4, 5, 6], \n",
    "  [7, 8, 9]\n",
    "]\n",
    "\n",
    "matrix_flattened = [item for row in matrix for item in row]\n",
    "print(matrix_flattened)\n"
   ]
  },
  {
   "cell_type": "code",
   "execution_count": 122,
   "id": "090ed0d6",
   "metadata": {},
   "outputs": [
    {
     "name": "stdout",
     "output_type": "stream",
     "text": [
      "Sum_matrix: [[2, 4, 0], [8, 0, 22], [24, 26, 48]]\n"
     ]
    }
   ],
   "source": [
    "matrix2 = [\n",
    "    [1, 2, -3],\n",
    "    [4, -5, 16],\n",
    "    [17, 18, 39]\n",
    "]\n",
    "\n",
    "# Sum_matrix = matrix + matrix2\n",
    "def add_matrices(matrix, matrix2):\n",
    "    result = []\n",
    "    for i in range(len(matrix)):\n",
    "        row = []\n",
    "        for j in range(len(matrix[i])):\n",
    "            row.append(matrix[i][j] + matrix2[i][j])\n",
    "        result.append(row)\n",
    "    return result\n",
    "\n",
    "sum_matrix = add_matrices(matrix, matrix2)\n",
    "print('Sum_matrix:', sum_matrix)\n",
    "\n",
    "\n"
   ]
  },
  {
   "cell_type": "code",
   "execution_count": null,
   "id": "89daa865",
   "metadata": {},
   "outputs": [
    {
     "name": "stdout",
     "output_type": "stream",
     "text": [
      "[[0, 0, 0], [0, 0, 0], [0, 0, 0]]\n",
      "Mul_matrix: [[60, 46, 146], [126, 91, 302], [192, 136, 458]]\n"
     ]
    }
   ],
   "source": [
    "# Mul_matrix = matrix * matrix2\n",
    "def multiply_matrices(matrix, matrix2):\n",
    "    rows_a = len(matrix)\n",
    "    cols_a = len(matrix[0])\n",
    "    rows_b = len(matrix2)\n",
    "    cols_b = len(matrix2[0])\n",
    "\n",
    "    #check new matrix dimensions\n",
    "    result = [[0 for _ in range(cols_b)] for _ in range(rows_a)]\n",
    "    print(result)\n",
    "\n",
    "    for i in range(rows_a):\n",
    "        for j in range(cols_b):\n",
    "            for k in range(cols_a):\n",
    "                result[i][j] += matrix[i][k] * matrix2[k][j]\n",
    "    return result\n",
    "\n",
    "mul_matrix = multiply_matrices(matrix, matrix2)\n",
    "print('Mul_matrix:', mul_matrix)"
   ]
  },
  {
   "cell_type": "code",
   "execution_count": 125,
   "id": "163bdfe0-c2c9-400c-b221-432f902aea57",
   "metadata": {},
   "outputs": [
    {
     "name": "stdout",
     "output_type": "stream",
     "text": [
      "Updated grades: [93, 97, 83, 70, 60, 99]\n"
     ]
    }
   ],
   "source": [
    "# use enumerate() for looping to add 5 extra point to each grade in the list, the 5th one add 10 \n",
    "grades = [88, 92, 78, 65, 50, 94]\n",
    "\n",
    "for index, grade in enumerate(grades):\n",
    "    if index == 4:  \n",
    "        grades[index] = grade + 10\n",
    "    else:\n",
    "        grades[index] = grade + 5\n",
    "\n",
    "print(\"Updated grades:\", grades)\n"
   ]
  },
  {
   "cell_type": "code",
   "execution_count": 126,
   "id": "d069230f-2c5d-4c16-bbf9-576ffa3f7031",
   "metadata": {},
   "outputs": [
    {
     "name": "stdout",
     "output_type": "stream",
     "text": [
      "[105, 200, 305, 400, 505]\n"
     ]
    }
   ],
   "source": [
    "# filter out elements depend on their index: \n",
    "# use list comprehension and enumerate() to get elements with even index\n",
    "data = [100, 200, 300, 400, 500]\n",
    "\n",
    "for index, value in enumerate(data):\n",
    "    if index % 2 == 0:\n",
    "        data[index] = value + 5\n",
    "\n",
    "print(data)\n"
   ]
  },
  {
   "cell_type": "code",
   "execution_count": 131,
   "id": "ebdc579d-5829-4204-9814-253753ea6766",
   "metadata": {},
   "outputs": [
    {
     "name": "stdout",
     "output_type": "stream",
     "text": [
      "{'name': 'Alice', 'age': 25, 'grade': 'A'}\n"
     ]
    }
   ],
   "source": [
    "# create a dictionary from lists using zip()\n",
    "keys = ['name', 'age', 'grade']\n",
    "values = ['Alice', 25, 'A']\n",
    "\n",
    "dict = {k: v for k, v in zip(keys, values)}\n",
    "\n",
    "print(dict)"
   ]
  },
  {
   "cell_type": "code",
   "execution_count": null,
   "id": "96eabba4-1b73-40dd-80ad-de0f45bb4c81",
   "metadata": {},
   "outputs": [
    {
     "name": "stdout",
     "output_type": "stream",
     "text": [
      "[{'name': 'Jack', 'grade': 'A-', 'age': 16}, {'name': 'Joss', 'grade': 'A+', 'age': 19}, {'name': 'John', 'grade': 'A', 'age': 20}, {'name': 'Jane', 'grade': 'B', 'age': 21}, {'name': 'Dave', 'grade': 'C', 'age': 25}]\n"
     ]
    }
   ],
   "source": [
    "# sort the dictionary based on the ages using lambda\n",
    "students = [\n",
    "    {'name': \"John\", 'grade': \"A\", 'age': 20}, \n",
    "    {'name': \"Jane\", 'grade': \"B\", 'age': 21}, \n",
    "    {'name': \"Joss\", 'grade': \"A+\", 'age': 19}, \n",
    "    {'name': \"Jack\", 'grade': \"A-\", 'age': 16}, \n",
    "    {'name': \"Dave\", 'grade': \"C\", 'age': 25}, \n",
    "]\n",
    "\n",
    "sorted_students_by_age = sorted(students, key=lambda x: x['age'])\n",
    "\n",
    "print(sorted_students_by_age)\n"
   ]
  },
  {
   "cell_type": "code",
   "execution_count": 137,
   "id": "1332bf19-f03a-4c5b-ac2f-c1fa58c54767",
   "metadata": {},
   "outputs": [
    {
     "name": "stdout",
     "output_type": "stream",
     "text": [
      "[{'name': 'Bob', 'age': 25, 'salary': 50000}, {'name': 'Alice', 'age': 30, 'salary': 80000}, {'name': 'Ana', 'age': 35, 'salary': 100000}, {'name': 'Charlie', 'age': 35, 'salary': 120000}]\n"
     ]
    }
   ],
   "source": [
    "# Sort by age, then by salary if ages are the same\n",
    "# use lambda\n",
    "employees = [\n",
    "    {'name': 'Alice', 'age': 30, 'salary': 80000},\n",
    "    {'name': 'Bob', 'age': 25, 'salary': 50000},\n",
    "    {'name': 'Charlie', 'age': 35, 'salary': 120000},\n",
    "    {'name': 'Ana', 'age': 35, 'salary': 100000},\n",
    "]\n",
    "\n",
    "sorted_employees = sorted(employees, key=lambda x: (x['age'], x['salary']))\n",
    "\n",
    "print(sorted_employees)\n"
   ]
  },
  {
   "cell_type": "code",
   "execution_count": null,
   "id": "e29a4e1c",
   "metadata": {},
   "outputs": [
    {
     "name": "stdout",
     "output_type": "stream",
     "text": [
      "[<function <lambda> at 0x1163738b0>]\n",
      "[<function <lambda> at 0x1163738b0>, <function <lambda> at 0x116390820>]\n",
      "[<function <lambda> at 0x1163738b0>, <function <lambda> at 0x116390820>, <function <lambda> at 0x1163905e0>]\n",
      "[<function <lambda> at 0x1163738b0>, <function <lambda> at 0x116390820>, <function <lambda> at 0x1163905e0>, <function <lambda> at 0x116390310>]\n",
      "[<function <lambda> at 0x1163738b0>, <function <lambda> at 0x116390820>, <function <lambda> at 0x1163905e0>, <function <lambda> at 0x116390310>, <function <lambda> at 0x116390a60>]\n",
      "500\n"
     ]
    }
   ],
   "source": [
    "data = []\n",
    "\n",
    "for i in range(5):\n",
    "  data.append(lambda a, i=i*2: i*a)\n",
    "  print(data)\n",
    "\n",
    "data2 = []\n",
    "def generate_numbers(a):\n",
    "  for i in range(5):\n",
    "    i = i*2\n",
    "    value = data2.append(i*a)\n",
    "  return value\n",
    "\n",
    "generate_numbers(10)\n",
    "print(value)\n"
   ]
  },
  {
   "cell_type": "code",
   "execution_count": 134,
   "id": "ad414ac1-a032-4d8e-a8ae-0d8180ffbeb6",
   "metadata": {},
   "outputs": [],
   "source": [
    "# Generators are highly useful in data-heavy applications:\n",
    "\n",
    "# Reading Large Files: Use generators to read large files line by line without loading the entire file into memory.\n",
    "# Data Streaming: Stream data entries for real-time data processing.\n",
    "# Large Calculations: Break down massive calculations into smaller, more manageable chunks."
   ]
  }
 ],
 "metadata": {
  "kernelspec": {
   "display_name": "Python 3",
   "language": "python",
   "name": "python3"
  },
  "language_info": {
   "codemirror_mode": {
    "name": "ipython",
    "version": 3
   },
   "file_extension": ".py",
   "mimetype": "text/x-python",
   "name": "python",
   "nbconvert_exporter": "python",
   "pygments_lexer": "ipython3",
   "version": "3.9.23"
  }
 },
 "nbformat": 4,
 "nbformat_minor": 5
}
